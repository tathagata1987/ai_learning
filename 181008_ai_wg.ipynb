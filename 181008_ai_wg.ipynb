{
 "cells": [
  {
   "cell_type": "markdown",
   "metadata": {},
   "source": [
    "# AI Working Group\n",
    "#### 10/8/18"
   ]
  },
  {
   "cell_type": "code",
   "execution_count": 1,
   "metadata": {},
   "outputs": [
    {
     "data": {
      "text/plain": [
       "'/gpu:0'"
      ]
     },
     "execution_count": 1,
     "metadata": {},
     "output_type": "execute_result"
    }
   ],
   "source": [
    "import sys, os\n",
    "import pandas as pd\n",
    "import numpy as np\n",
    "import matplotlib\n",
    "import matplotlib.pyplot as plt\n",
    "from IPython.display import display, Image\n",
    "from IPython.core.display import display, HTML\n",
    "import random\n",
    "import math\n",
    "np.random.seed(1212)\n",
    "import tensorflow as tf\n",
    "tf.test.gpu_device_name()"
   ]
  },
  {
   "cell_type": "markdown",
   "metadata": {},
   "source": [
    "### Entropy Optimization\n",
    "\n",
    "Without making assumptions on the functional form of the probability distribution of the credit portfolio, one can maximize the entropy, i.e.,\n",
    "\n",
    "$\\max{(-\\sum_{k=1}^{n_{k}} p_{k} \\log{p_{k}})}$\n",
    "\n",
    "conditional on the following constaints:\n",
    "\n",
    "$\\sum_{k=1}^{n_{k}} p_{k} = 1$,\n",
    "\n",
    "$\\sum_{k=1}^{n_k} \\mathbb{1}_{kj} p_{k} u_{k} = \\mathbb{E}[\\text{Loss}_j] = \\epsilon_j$, $j \\in (1,...,n_k)$,\n",
    "\n",
    "where\n",
    "\n",
    "$\\mathbb{1}_{kj} = \\begin{cases} 1 & \\text{if } k \\leq j \\text{,}\\\\ 0 & \\text{otherwise} \\end{cases}$\n",
    "\n",
    "and\n",
    "\n",
    "$\\epsilon_j = \\sum_{k=1}^{n_{k}} u_k (1 - q_j)$, $j \\in (1,...,n_k)$."
   ]
  },
  {
   "cell_type": "markdown",
   "metadata": {},
   "source": [
    "It can be proven that the entropy function is a concave function with a well defined maximum. From here we write the Lagrangian:\n",
    "\n",
    "$\\mathscr{L} = - \\sum_{k=1}^{n_{k}} p_{k} \\log{p_{k}} + (\\lambda_0 + 1) (\\sum_{k=1}^{n_{k}} p_{k} - 1) + \\sum_{j \\in (1,...,n_k)} \\lambda_j (\\sum_{k=1}^{n_{k}} \\mathbb{1}_{kj} (p_{k} u_{k} - \\epsilon_j)$,\n",
    "\n",
    "In order to maximize the entropy, now make:\n",
    "\n",
    "$\\frac{\\partial\\mathscr{L}}{\\partial p_{k}} = - \\log{p_{k}} - 1 + \\lambda_0 + 1 + \\sum_{j \\in (1,...,n_k)} \\lambda_j u_{k} \\mathbb{1}_{kj} = 0 \\Longrightarrow p_k = \\exp{(-\\lambda_0 - \\sum_{j \\in (1,...,n_k)} \\lambda_j u_{k} \\mathbb{1}_{kj})}$.\n",
    "\n",
    "Applying the first constrain:\n",
    "\n",
    "$\\sum_{k=1}^{n_{k}} p_{k} = 1 \\Longrightarrow \\sum_{k=1}^{n_{k}} \\exp{(-\\lambda_0 - \\sum_{j \\in (1,...,n_k)} \\lambda_j u_{k} \\mathbb{1}_{kj})} = 1 \\Longrightarrow$\n",
    "\n",
    "$\\exp{\\lambda_0} = \\sum_{k=1}^{n_{k}} \\exp{(- \\sum_{j \\in (1,...,n_k)} \\lambda_j u_{k} \\mathbb{1}_{kj})}$\n",
    "\n",
    "Applying this back to $p_k$:\n",
    "\n",
    "$p_k = \\frac{\\exp{(- \\sum_{j \\in (1,...,n_k)} \\lambda_j u_{k} \\mathbb{1}_{kj})}}{\\sum_{k=1}^{n_{k}} \\exp{(- \\sum_{j \\in (1,...,n_k)} \\lambda_j u_{k} \\mathbb{1}_{kj})}}$"
   ]
  },
  {
   "cell_type": "markdown",
   "metadata": {},
   "source": [
    "This can now be applied back to the second set of constraints, the ones for the expected losses accross different subordinations of the portfolio:\n",
    "\n",
    "$\\sum_{k=1}^{n_k} \\mathbb{1}_{kj} p_{k} u_{k} - \\epsilon_j = 0 \\Longrightarrow \\sum_{k=1}^{n_k} \\mathbb{1}_{kj} u_{k} \\frac{\\exp{(- \\sum_{j \\in (1,...,n_k)} \\lambda_j u_{k} \\mathbb{1}_{kj})}}{\\sum_{k=1}^{n_{k}} \\exp{(- \\sum_{j \\in (1,...,n_k)} \\lambda_j u_{k} \\mathbb{1}_{kj})}} - \\epsilon_j = 0 \\Longrightarrow$\n",
    "\n",
    "$\\sum_{k=1}^{n_k} (\\mathbb{1}_{kj} u_k - \\epsilon_j) \\exp{(- \\sum_{j \\in (1,...,n_k)} \\lambda_j u_{k} \\mathbb{1}_{kj})} = 0$\n",
    "\n",
    "Note that there are $j \\in (1,...,n_k)$ equations, but we have this number plus $n_k$ unknowns given $u_k$. The system is underspecified and thus the minimization of a cost function is more appropriate.\n",
    "\n",
    "Now if one applies $p_k$ to the Lagrangian $\\mathscr{L}$, after some algebraic manipulation, it can be demonstrated that the cost function is the Lagrangian written as:\n",
    "\n",
    "$\\mathscr{L} = \\log{[\\sum_{k=1}^{n_k} \\exp{(- \\sum_{j \\in (1,...,n_k)} \\lambda_j u_k \\mathbb{1}_{kj})}]} - \\sum_{j \\in (1,...,n_k)} \\lambda_j \\epsilon_j$\n",
    "\n",
    "---"
   ]
  },
  {
   "cell_type": "markdown",
   "metadata": {},
   "source": [
    "### Parameter Calibration\n",
    "\n",
    "Now that we do have a function to minimize, the parameters $\\lambda_j$ and $u_k$ can be calibrated with Markov Chain Monte Carlo techniques such as Gibbs Sampling or Metropolis-Hastings. These techniques are well described here:\n",
    "\n",
    "https://www.coursera.org/lecture/bayesian-methods-in-machine-learning/gibbs-sampling-eZBy5\n",
    "\n",
    "---"
   ]
  },
  {
   "cell_type": "markdown",
   "metadata": {},
   "source": [
    "### Steps\n",
    "\n",
    "(1) Calibrate the expected losses by subordination (Section D of the paper below) and by maturity (3Y, 5Y, etc), using the whole population (no industry/region cohorts).\n",
    "\n",
    "http://jive.ms.com/docs/DOC-253898\n",
    "\n",
    "(2) Calibrate parameters $\\lambda_j$ and $u_k$  for the whole credit population as described previuosly. The result is a loss probability distribution for the whole credit population.\n",
    "\n",
    "(3) Adjust the loss probability distribution in (2) for each granular cohort (industry, region, etc) through the minimization of the relative entropy, using the loss probability distribution in (2) as prior distribution and the expected loss constraints of the specific cohort population.\n",
    "\n",
    "(4) Compute the credit spreads for each cohort given the specific cohort loss distributions.\n",
    "\n",
    "---"
   ]
  },
  {
   "cell_type": "markdown",
   "metadata": {},
   "source": [
    "### Example of Metropolis-Hastings with TensorFlow\n",
    "\n",
    "Below is an example of an implementation of Metropolis-Hastings in TensorFlow. This is an implementation with Simulated Annealing, here are some references:\n",
    "\n",
    "http://rbanchs.com/documents/THFEL_PR15.pdf\n",
    "\n",
    "https://am207.github.io/2017/wiki/lab4.html"
   ]
  },
  {
   "cell_type": "code",
   "execution_count": 2,
   "metadata": {},
   "outputs": [],
   "source": [
    "tf.reset_default_graph()\n",
    "# Define objective function\n",
    "def fx(x):\n",
    "    #return tf.sin(1.5*x)+0.5*x-0.025*x**2-tf.cos(2.5*x)+1\n",
    "    return tf.sin(2*x)+0.5*x-0.025*x**2-tf.cos(1.8*x)+1\n",
    "# Define temperature fractional reduction\n",
    "def fractional_reduction(prob_0,prob_50,n_cycles):\n",
    "    t0 = -1.0/math.log(prob_0) # Initial temperature, prob_0 = Probability of accepting worse solution at the start\n",
    "    t50 = -1.0/math.log(prob_50) # Final temperature, prob_50 = Probability of accepting worse solution at the end\n",
    "    return (t50/t0)**(1.0/(n_cycles-1.0)) # Fractional reduction every cycle"
   ]
  },
  {
   "cell_type": "code",
   "execution_count": 3,
   "metadata": {},
   "outputs": [],
   "source": [
    "# Define and initializing variables\n",
    "n = 1000 # Number of cycles\n",
    "m = 50 # Reannealing interval\n",
    "pm = 0.01\n",
    "p0 = 0.7\n",
    "anneal = fractional_reduction(p0,pm,n//m) # Reannealing constant\n",
    "\n",
    "# Define and initialize TensorFlow graph\n",
    "x = tf.Variable(4.)\n",
    "x_value = tf.placeholder(dtype=tf.float32)\n",
    "x_assign = x.assign(x_value)\n",
    "e_x = fx(x)\n",
    "\n",
    "# Minimizing with SGD-type optimizer\n",
    "#train_op_x = tf.train.GradientDescentOptimizer(0.01).minimize(e_x)\n",
    "train_op_x = tf.train.AdamOptimizer(0.01).minimize(e_x)"
   ]
  },
  {
   "cell_type": "code",
   "execution_count": 4,
   "metadata": {},
   "outputs": [
    {
     "data": {
      "text/plain": [
       "[<matplotlib.lines.Line2D at 0x3efffc53b780>]"
      ]
     },
     "execution_count": 4,
     "metadata": {},
     "output_type": "execute_result"
    },
    {
     "data": {
      "image/png": "[encoded data removed]",
      "text/plain": [
       "<matplotlib.figure.Figure at 0x3efffee74f28>"
      ]
     },
     "metadata": {},
     "output_type": "display_data"
    }
   ],
   "source": [
    "j = n\n",
    "x_ = np.linspace(2,6*math.pi,j)\n",
    "e_ = np.empty((0))\n",
    "with tf.Session() as s:\n",
    "    s.run(tf.global_variables_initializer())\n",
    "    for i in range(j):\n",
    "        e_ = np.append(e_,s.run(e_x,feed_dict={x:x_[i]}))\n",
    "plt.plot(x_,e_)"
   ]
  },
  {
   "cell_type": "code",
   "execution_count": 5,
   "metadata": {},
   "outputs": [],
   "source": [
    "# Initialize run\n",
    "xi = np.random.normal(0,np.std(x_),n+1)\n",
    "ei = np.zeros(n+1)\n",
    "em = np.zeros(n+1)\n",
    "#h = np.zeros(n+1)\n",
    "i = 0\n",
    "j = 0\n",
    "t = -1.0/math.log(p0)\n",
    "e_tol = 1E-4"
   ]
  },
  {
   "cell_type": "code",
   "execution_count": 6,
   "metadata": {},
   "outputs": [
    {
     "name": "stdout",
     "output_type": "stream",
     "text": [
      "Initial state: x0=4.0, e0=2.981006622314453, t=2.8036732520571284\n",
      "i=50, x0=3.539030367257472, xi=2.0, e0=2.1739611625671387, ei=2.0399560928344727, em=0.29388701575142995, p=0.8543249352846649, t=2.8036732520571284, j=35\n",
      "i=100, x0=2.4591463969731615, xi=2.4591463969731615, e0=1.3815571069717407, ei=1.3815571069717407, em=0.3063161313533783, p=0.4159748899131485, t=2.4505023923427123, j=60\n",
      "i=150, x0=2.3553534141003483, xi=2.3553534141003483, e0=1.4943249225616455, ei=1.4943249225616455, em=0.3558779444013324, p=0.10376912808919325, t=2.1418194757436013, j=84\n",
      "i=200, x0=2.0, xi=2.0, e0=2.0399560928344727, ei=2.0399560928344727, em=0.3879214869095729, p=0.15665023379845222, t=1.8720204807835303, j=104\n",
      "i=250, x0=14.751840882859902, xi=17.06732367939687, e0=1.843569040298462, ei=1.893487811088562, em=0.3601237929982247, p=0.9192546517294002, t=1.6362073088612261, j=139\n",
      "i=300, x0=18.334694759836317, xi=18.376945928571168, e0=0.9218906164169312, ei=1.0266942977905273, em=0.3614402635563054, p=0.8171743679109423, t=1.4300988611248366, j=169\n",
      "i=350, x0=17.821445148321786, xi=17.821445148321786, e0=0.297798216342926, ei=0.297798216342926, em=0.3768682190159844, p=0.012792033829360679, t=1.2499533167431998, j=179\n",
      "i=400, x0=14.312702034294187, xi=14.70507395036221, e0=1.8831567764282227, ei=1.8074150085449219, em=0.37770771328868746, p=0.005015828574528831, t=1.092500201565395, j=183\n",
      "i=450, x0=17.63161169532954, xi=17.63161169532954, e0=0.4464641213417053, ei=0.4464641213417053, em=0.37872113741655383, p=0.000563047979441877, t=0.9548810139008115, j=187\n",
      "i=500, x0=17.858537943480307, xi=17.858537943480307, e0=0.2939101457595825, ei=0.2939101457595825, em=0.3775181205982856, p=0.0014599480329145706, t=0.8345973295032506, j=188\n",
      "i=550, x0=17.956667427767897, xi=17.956667427767897, e0=0.3234635591506958, ei=0.3234635591506958, em=0.37083348170998154, p=0.0005554193555975758, t=0.7294654436246987, j=194\n",
      "i=600, x0=18.125528835422706, xi=17.99270057150984, e0=0.5039198398590088, ei=0.34858328104019165, em=0.36689080350895203, p=1.586327253930915e-05, t=0.6375767266824282, j=197\n",
      "i=650, x0=17.794813166854023, xi=17.794813166854023, e0=0.3057134747505188, ei=0.3057134747505188, em=0.3624475261569022, p=3.9985267717576316e-05, t=0.5572629738115754, j=200\n",
      "i=700, x0=17.74585244297515, xi=17.74585244297515, e0=0.3314126133918762, ei=0.3314126133918762, em=0.3611636672279621, p=1.0318041592887207e-05, t=0.48706611923744053, j=202\n",
      "i=750, x0=17.797004912682738, xi=17.797004912682738, e0=0.30490052700042725, ei=0.30490052700042725, em=0.35783669995326606, p=2.545143990337677e-07, t=0.4257117656434055, j=204\n",
      "i=800, x0=17.932500609049367, xi=17.932500609049367, e0=0.3108670115470886, ei=0.3108670115470886, em=0.35443787349080563, p=1.9107597005484616e-07, t=0.3720860479701679, j=206\n",
      "i=850, x0=17.76635452105948, xi=17.76635452105948, e0=0.31890034675598145, ei=0.31890034675598145, em=0.3517493244547109, p=1.9258573876098383e-08, t=0.3252154116173245, j=208\n",
      "i=900, x0=17.666455675528297, xi=17.666455675528297, e0=0.40334993600845337, ei=0.40334993600845337, em=0.3488014717896778, p=1.4892000438170806e-17, t=0.28424893792821154, j=210\n",
      "i=950, x0=17.693281767735584, xi=17.693281767735584, e0=0.374910831451416, ei=0.374910831451416, em=0.34728316673170323, p=1.0212886868779925e-07, t=0.2484428960838709, j=211\n",
      "i=1000, x0=17.693281767735584, xi=17.693281767735584, e0=0.374910831451416, ei=0.374910831451416, em=0.34728316673170323, p=1.9737500696012649e-22, t=0.2171472409516258, j=211\n",
      "Before SGD: xi = 17.693281173706055, ei =0.374910831451416\n",
      "SGD: xi=17.70328140258789, ei=0.36538106203079224\n",
      "SGD: xi=17.713260650634766, ei=0.3564566373825073\n",
      "SGD: xi=17.723203659057617, ei=0.34814900159835815\n",
      "SGD: xi=17.733091354370117, ei=0.34046632051467896\n",
      "SGD: xi=17.742904663085938, ei=0.33341705799102783\n",
      "SGD: xi=17.752622604370117, ei=0.32700133323669434\n",
      "SGD: xi=17.762222290039062, ei=0.32121896743774414\n",
      "SGD: xi=17.77167510986328, ei=0.3160642385482788\n",
      "SGD: xi=17.780956268310547, ei=0.3115270137786865\n",
      "SGD: xi=17.7900333404541, ei=0.3075893521308899\n",
      "SGD: xi=17.79887580871582, ei=0.30422985553741455\n",
      "SGD: xi=17.807451248168945, ei=0.30142277479171753\n",
      "SGD: xi=17.815725326538086, ei=0.29913800954818726\n",
      "SGD: xi=17.82366180419922, ei=0.2973329424858093\n",
      "SGD: xi=17.831226348876953, ei=0.2959662675857544\n",
      "SGD: xi=17.8383846282959, ei=0.29499322175979614\n",
      "SGD: xi=17.845104217529297, ei=0.294358491897583\n",
      "SGD: xi=17.851354598999023, ei=0.29401618242263794\n",
      "SGD: xi=17.85711097717285, ei=0.2939077615737915\n",
      "SGD: xi=17.862348556518555, ei=0.2939821481704712\n",
      "Final state: xi=17.862348556518555, ei=0.2939821481704712\n"
     ]
    }
   ],
   "source": [
    "session = tf.Session()\n",
    "with session as s:\n",
    "    s.run(tf.global_variables_initializer())\n",
    "    xi[i] = x.eval()\n",
    "    s.run(x_assign,feed_dict={x_value:xi[0]}) # Random noise\n",
    "    ei[i] = s.run(e_x) # Initial energy\n",
    "    em[i] = ei[i] # Running energy average\n",
    "    em0 = em[i]\n",
    "    hm = np.empty((0))\n",
    "    h = 0\n",
    "    print('Initial state: x0={}, e0={}, t={}'.format(xi[i],ei[i],t))\n",
    "    while i < n:\n",
    "        i = i+1\n",
    "        xi[i] = max(min(xi[i-1]+xi[i],6*math.pi),2) # Random noise\n",
    "        s.run(x_assign,feed_dict={x_value:xi[i]})\n",
    "        ei[i] = s.run(e_x)\n",
    "        if ei[i] < ei[i-1]: # Better solution, automatic acceptance\n",
    "            accept = True\n",
    "        else: # Worse solution\n",
    "            p = np.exp(-abs(ei[i]-ei[i-1])/(em[i-1]*t))\n",
    "            if random.random() < p: # Can solution still be accepted?\n",
    "                accept = True\n",
    "            else:\n",
    "                accept = False\n",
    "        if accept:\n",
    "            j = j+1 # Number of accepted solutions\n",
    "            em[i] = (em[i-1]*(j-1.0)+abs(ei[i]-ei[i-1]))/j # Compute running energy average\n",
    "            h = h+ei[i]*np.exp(-ei[i]/(em[i]*t))/(em[i]*t) # Compute entropy\n",
    "        else:\n",
    "            xi[i] = xi[i-1]\n",
    "            s.run(x_assign,feed_dict={x_value:xi[i]})\n",
    "            ei[i] = ei[i-1]\n",
    "            em[i] = em[i-1]\n",
    "        if i % m == 0:\n",
    "            print('i={}, x0={}, xi={}, e0={}, ei={}, em={}, p={}, t={}, j={}'.format(i,xi[i-1],xi[i],ei[i-1],ei[i],em[i],p,t,j))\n",
    "            hm = np.append(hm,h)\n",
    "            h = 0\n",
    "            t = anneal*t # Reannealing, lower the temperature for next cycle\n",
    "            if abs(em[i]-em0) < e_tol:\n",
    "                break\n",
    "            em0 = em[i]\n",
    "    e0 = 0\n",
    "    print('Before SGD: xi = {}, ei ={}'.format(x.eval(),s.run(e_x)))\n",
    "    while abs(ei[i]-e0)>=e_tol:\n",
    "        s.run(train_op_x)\n",
    "        e0 = ei[i]\n",
    "        ei[i] = s.run(e_x)\n",
    "        print('SGD: xi={}, ei={}'.format(x.eval(),s.run(e_x)))\n",
    "    xi[i] = x.eval()\n",
    "    print('Final state: xi={}, ei={}'.format(x.eval(),s.run(e_x)))\n",
    "session.close()"
   ]
  },
  {
   "cell_type": "code",
   "execution_count": 7,
   "metadata": {},
   "outputs": [
    {
     "data": {
      "text/plain": [
       "[<matplotlib.lines.Line2D at 0x3efffc129390>]"
      ]
     },
     "execution_count": 7,
     "metadata": {},
     "output_type": "execute_result"
    },
    {
     "data": {
      "image/png": "[encoded data removed]",
      "text/plain": [
       "<matplotlib.figure.Figure at 0x3efffc182390>"
      ]
     },
     "metadata": {},
     "output_type": "display_data"
    }
   ],
   "source": [
    "# Energy function and convergence\n",
    "plt.plot(x_,e_)\n",
    "j = i//m\n",
    "xx = np.empty((0))\n",
    "ee = np.empty((0))\n",
    "for k in range(i+1):\n",
    "    if k%m==0:\n",
    "        xx = np.append(xx,xi[k])\n",
    "        ee = np.append(ee,ei[k])\n",
    "plt.plot(xx,ee,'ko',ms=3)\n",
    "plt.plot(xx[0],ee[0],'ro',ms=7)\n",
    "plt.plot(xx[j],ee[j],'ro',ms=7)"
   ]
  },
  {
   "cell_type": "code",
   "execution_count": null,
   "metadata": {},
   "outputs": [],
   "source": []
  }
 ],
 "metadata": {
  "kernelspec": {
   "display_name": "Python 3",
   "language": "python",
   "name": "python3"
  },
  "language_info": {
   "codemirror_mode": {
    "name": "ipython",
    "version": 3
   },
   "file_extension": ".py",
   "mimetype": "text/x-python",
   "name": "python",
   "nbconvert_exporter": "python",
   "pygments_lexer": "ipython3",
   "version": "3.6.5"
  }
 },
 "nbformat": 4,
 "nbformat_minor": 2
}
