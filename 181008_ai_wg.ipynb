{
 "cells": [
  {
   "cell_type": "markdown",
   "metadata": {},
   "source": [
    "# AI Working Group\n",
    "#### 10/8/18"
   ]
  },
  {
   "cell_type": "code",
   "execution_count": 1,
   "metadata": {},
   "outputs": [
    {
     "data": {
      "text/plain": [
       "'/gpu:0'"
      ]
     },
     "execution_count": 1,
     "metadata": {},
     "output_type": "execute_result"
    }
   ],
   "source": [
    "import sys, os\n",
    "import pandas as pd\n",
    "import numpy as np\n",
    "import matplotlib\n",
    "import matplotlib.pyplot as plt\n",
    "from IPython.display import display, Image\n",
    "from IPython.core.display import display, HTML\n",
    "import random\n",
    "import math\n",
    "np.random.seed(1212)\n",
    "import tensorflow as tf\n",
    "tf.test.gpu_device_name()"
   ]
  },
  {
   "cell_type": "markdown",
   "metadata": {},
   "source": [
    "### Entropy Optimization\n",
    "\n",
    "Without making assumptions on the functional form of the probability distribution of the credit portfolio, one can maximize the entropy, i.e.,\n",
    "\n",
    "$\\max{(-\\sum_{k=1}^{n_{k}} p_{k} \\log{p_{k}})}$\n",
    "\n",
    "conditional on the following constaints:\n",
    "\n",
    "$\\sum_{k=1}^{n_{k}} p_{k} = 1$,\n",
    "\n",
    "$\\sum_{k=1}^{n_k} \\mathbb{1}_k(j) p_{k} u_{k} = \\mathbb{E}[\\text{Loss}_j] = \\epsilon_j$, $j \\in (1,...,n_k)$,\n",
    "\n",
    "where\n",
    "\n",
    "$\\mathbb{1}_{kj} = \\begin{cases} 1 & \\text{if } k \\leq j \\text{,}\\\\ 0 & \\text{otherwise.} \\end{cases}$"
   ]
  },
  {
   "cell_type": "markdown",
   "metadata": {},
   "source": [
    "It can be proven that the entropy function is a concave function with a well defined maximum. From here we write the Lagrangian:\n",
    "\n",
    "$\\mathscr{L} = - \\sum_{k=1}^{n_{k}} p_{k} \\log{p_{k}} + (\\lambda_0 + 1) (\\sum_{k=1}^{n_{k}} p_{k} - 1) + \\sum_{j \\in (1,...,n_k)} \\lambda_j (\\sum_{k=1}^{n_{k}} \\mathbb{1}_{kj} (p_{k} u_{k} - \\epsilon_j)$,\n",
    "\n",
    "In order to maximize the entropy, now make:\n",
    "\n",
    "$\\frac{\\partial\\mathscr{L}}{\\partial p_{k}} = - \\log{p_{k}} - 1 + \\lambda_0 + 1 + \\sum_{j \\in (1,...,n_k)} \\lambda_j u_{k} \\mathbb{1}_{kj} = 0 \\Longrightarrow p_k = \\exp{(-\\lambda_0 - \\sum_{j \\in (1,...,n_k)} \\lambda_j u_{k} \\mathbb{1}_{kj})}$.\n",
    "\n",
    "Applying the first constrain:\n",
    "\n",
    "$\\sum_{k=1}^{n_{k}} p_{k} = 1 \\Longrightarrow \\sum_{k=1}^{n_{k}} \\exp{(-\\lambda_0 - \\sum_{j \\in (1,...,n_k)} \\lambda_j u_{k} \\mathbb{1}_{kj})} = 1 \\Longrightarrow$\n",
    "\n",
    "$\\exp{\\lambda_0} = \\sum_{k=1}^{n_{k}} \\exp{(- \\sum_{j \\in (1,...,n_k)} \\lambda_j u_{k} \\mathbb{1}_{kj})}$\n",
    "\n",
    "Applying this back to $p_k$:\n",
    "\n",
    "$p_k = \\frac{\\exp{(- \\sum_{j \\in (1,...,n_k)} \\lambda_j u_{k} \\mathbb{1}_{kj})}}{\\sum_{k=1}^{n_{k}} \\exp{(- \\sum_{j \\in (1,...,n_k)} \\lambda_j u_{k} \\mathbb{1}_{kj})}}$"
   ]
  },
  {
   "cell_type": "markdown",
   "metadata": {},
   "source": [
    "This can now be applied back to the second set of constraints, the ones for the expected losses accross different subordinations of the portfolio:\n",
    "\n",
    "$\\sum_{k=1}^{n_k} \\mathbb{1}_{kj} p_{k} u_{k} - \\epsilon_j = 0 \\Longrightarrow \\sum_{k=1}^{n_k} \\mathbb{1}_{kj} u_{k} \\frac{\\exp{(- \\sum_{j \\in (1,...,n_k)} \\lambda_j u_{k} \\mathbb{1}_{kj})}}{\\sum_{k=1}^{n_{k}} \\exp{(- \\sum_{j \\in (1,...,n_k)} \\lambda_j u_{k} \\mathbb{1}_{kj})}} - \\epsilon_j = 0 \\Longrightarrow$\n",
    "\n",
    "$\\sum_{k=1}^{n_k} (\\mathbb{1}_{kj} u_k - \\epsilon_j) \\exp{(- \\sum_{j \\in (1,...,n_k)} \\lambda_j u_{k} \\mathbb{1}_{kj})} = 0$\n",
    "\n",
    "Note that there are $j \\in (1,...,n_k)$ equations, but we have this number plus $n_k$ unknowns given $u_k$. The system is underspecified and thus the minimization of a cost function is more appropriate.\n",
    "\n",
    "Now if one applies $p_k$ to the Lagrangian $\\mathscr{L}$, after some algebraic manipulation, it can be demonstrated that the cost function is the Lagrangian written as:\n",
    "\n",
    "$\\mathscr{L} = \\log{[\\sum_{k=1}^{n_k} \\exp{(- \\sum_{j \\in (1,...,n_k)} \\lambda_j u_k \\mathbb{1}_{kj})}]} - \\sum_{j \\in (1,...,n_k)} \\lambda_j \\epsilon_j$\n",
    "\n",
    "---"
   ]
  },
  {
   "cell_type": "markdown",
   "metadata": {},
   "source": [
    "### Parameter Calibration\n",
    "\n",
    "Now that we do have a function to minimize, the parameters $\\lambda_j$ and $u_k$ can be calibrated with Markov Chain Monte Carlo techniques such as Gibbs Sampling or Metropolis-Hastings. These techniques are well described here:\n",
    "\n",
    "https://www.coursera.org/lecture/bayesian-methods-in-machine-learning/gibbs-sampling-eZBy5\n",
    "\n",
    "---"
   ]
  },
  {
   "cell_type": "markdown",
   "metadata": {},
   "source": [
    "### Steps\n",
    "\n",
    "(1) Calibrate the expected losses by subordination (Section D of the paper below) and by maturity (3Y, 5Y, etc), using the whole population (no industry/region cohorts).\n",
    "\n",
    "http://jive.ms.com/docs/DOC-253898\n",
    "\n",
    "(2) Calibrate parameters $\\lambda_j$ and $u_k$  for the whole credit population as described previuosly. The result is a loss probability distribution for the whole credit population.\n",
    "\n",
    "(3) Adjust the loss probability distribution in (2) for each granular cohort (industry, region, etc) through the minimization of the relative entropy, using the loss probability distribution in (2) as prior distribution and the expected loss constraints of the specific cohort population.\n",
    "\n",
    "(4) Compute the credit spreads for each cohort given the specific cohort loss distributions.\n",
    "\n",
    "---"
   ]
  },
  {
   "cell_type": "markdown",
   "metadata": {},
   "source": [
    "### Example of Metropolis-Hastings with TensorFlow\n",
    "\n",
    "Below is an example of an implementation of Metropolis-Hastings in TensorFlow."
   ]
  },
  {
   "cell_type": "code",
   "execution_count": 2,
   "metadata": {},
   "outputs": [],
   "source": [
    "tf.reset_default_graph()\n",
    "# Define objective function\n",
    "def fx(x):\n",
    "    #return tf.sin(1.5*x)+0.5*x-0.025*x**2-tf.cos(2.5*x)+1\n",
    "    return tf.sin(2*x)+0.5*x-0.025*x**2-tf.cos(1.8*x)+1\n",
    "# Define temperature fractional reduction\n",
    "def fractional_reduction(prob_0,prob_50,n_cycles):\n",
    "    t0 = -1.0/math.log(prob_0) # Initial temperature, prob_0 = Probability of accepting worse solution at the start\n",
    "    t50 = -1.0/math.log(prob_50) # Final temperature, prob_50 = Probability of accepting worse solution at the end\n",
    "    return (t50/t0)**(1.0/(n_cycles-1.0)) # Fractional reduction every cycle"
   ]
  },
  {
   "cell_type": "code",
   "execution_count": 3,
   "metadata": {},
   "outputs": [],
   "source": [
    "# Define and initializing variables\n",
    "n = 1000 # Number of cycles\n",
    "m = 50 # Reannealing interval\n",
    "pm = 0.01\n",
    "p0 = 0.7\n",
    "anneal = fractional_reduction(p0,pm,n//m) # Reannealing constant\n",
    "\n",
    "# Define and initialize TensorFlow graph\n",
    "x = tf.Variable(4.)\n",
    "x_value = tf.placeholder(dtype=tf.float32)\n",
    "x_assign = x.assign(x_value)\n",
    "e_x = fx(x)\n",
    "\n",
    "# Minimizing with SGD-type optimizer\n",
    "#train_op_x = tf.train.GradientDescentOptimizer(0.01).minimize(e_x)\n",
    "train_op_x = tf.train.AdamOptimizer(0.01).minimize(e_x)"
   ]
  },
  {
   "cell_type": "code",
   "execution_count": 4,
   "metadata": {},
   "outputs": [
    {
     "data": {
      "text/plain": [
       "[<matplotlib.lines.Line2D at 0x3efffc4f1c50>]"
      ]
     },
     "execution_count": 4,
     "metadata": {},
     "output_type": "execute_result"
    },
    {
     "data": {
      "image/png": "[encoded data removed]",
      "text/plain": [
       "<matplotlib.figure.Figure at 0x3efffe5a3a90>"
      ]
     },
     "metadata": {},
     "output_type": "display_data"
    }
   ],
   "source": [
    "j = n\n",
    "x_ = np.linspace(2,6*math.pi,j)\n",
    "e_ = np.empty((0))\n",
    "with tf.Session() as s:\n",
    "    s.run(tf.global_variables_initializer())\n",
    "    for i in range(j):\n",
    "        e_ = np.append(e_,s.run(e_x,feed_dict={x:x_[i]}))\n",
    "plt.plot(x_,e_)"
   ]
  },
  {
   "cell_type": "code",
   "execution_count": 5,
   "metadata": {},
   "outputs": [],
   "source": [
    "# Initialize run\n",
    "xi = np.random.normal(0,np.std(x_),n+1)\n",
    "ei = np.zeros(n+1)\n",
    "em = np.zeros(n+1)\n",
    "#h = np.zeros(n+1)\n",
    "i = 0\n",
    "j = 0\n",
    "t = -1.0/math.log(p0)\n",
    "e_tol = 1E-4"
   ]
  },
  {
   "cell_type": "code",
   "execution_count": 6,
   "metadata": {},
   "outputs": [
    {
     "name": "stdout",
     "output_type": "stream",
     "text": [
      "Initial state: x0=4.0, e0=2.981006622314453, t=2.8036732520571284\n",
      "i=50, x0=3.539030367257472, xi=2.0, e0=2.1739611625671387, ei=2.0399560928344727, em=0.12901072791128446, p=0.6897608115139569, t=2.8036732520571284, j=33\n",
      "i=100, x0=2.0, xi=2.0, e0=2.0399560928344727, ei=2.0399560928344727, em=0.16625896622152886, p=1.0, t=2.4505023923427123, j=51\n",
      "i=150, x0=2.0, xi=2.0, e0=2.0399560928344727, ei=2.0399560928344727, em=0.18740903969967002, p=0.09092330939977411, t=2.1418194757436013, j=66\n",
      "i=200, x0=2.0, xi=2.0, e0=2.0399560928344727, ei=2.0399560928344727, em=0.2163693721477802, p=0.0360262051203002, t=1.8720204807835303, j=91\n",
      "i=250, x0=2.0, xi=2.0, e0=2.0399560928344727, ei=2.0399560928344727, em=0.19902486801147462, p=0.019677675958328228, t=1.6362073088612261, j=115\n",
      "i=300, x0=2.0, xi=2.0422511687348517, e0=2.0399560928344727, ei=1.9681293964385986, em=0.21317569474528605, p=0.018274046476637447, t=1.4300988611248366, j=133\n",
      "i=350, x0=2.5275611238538644, xi=2.5275611238538644, e0=1.32428777217865, ei=1.32428777217865, em=0.22196236335568958, p=0.005806391863287321, t=1.2499533167431998, j=144\n",
      "i=400, x0=2.3741691667222096, xi=2.7665410827902344, e0=1.4717438220977783, ei=1.2460026741027832, em=0.21801658203265417, p=0.09198475043006052, t=1.092500201565395, j=163\n",
      "i=450, x0=3.5282023801687545, xi=2.0, e0=2.153621196746826, ei=2.0399560928344727, em=0.20810221812941812, p=0.04940651485916048, t=0.9548810139008115, j=176\n",
      "i=500, x0=2.7696544335151376, xi=2.7696544335151376, e0=1.2462964057922363, ei=1.2462964057922363, em=0.1969455267253675, p=9.242401856189383e-06, t=0.8345973295032506, j=190\n",
      "i=550, x0=2.847491963278682, xi=2.847491963278682, e0=1.2647279500961304, ei=1.2647279500961304, em=0.19235625572693654, p=2.133944263225716e-06, t=0.7294654436246987, j=195\n",
      "i=600, x0=3.0163533709334907, xi=2.8835251070206236, e0=1.375687837600708, ei=1.2804068326950073, em=0.19048338767253992, p=0.004271722530015035, t=0.6375767266824282, j=198\n",
      "i=650, x0=17.87792687896754, xi=17.87792687896754, e0=0.2951838970184326, ei=0.2951838970184326, em=0.19729062751751042, p=7.560441365396414e-09, t=0.5572629738115754, j=201\n",
      "i=700, x0=17.67253104464728, xi=17.67253104464728, e0=0.39654481410980225, ei=0.39654481410980225, em=0.19681572796094535, p=1.3958974213335547e-09, t=0.48706611923744053, j=202\n",
      "i=750, x0=17.755610777285852, xi=17.755610777285852, e0=0.3251429796218872, ei=0.3251429796218872, em=0.19619792553004373, p=3.5819401179379464e-12, t=0.4257117656434055, j=203\n",
      "i=800, x0=17.89110647365248, xi=17.89110647365248, e0=0.2973406910896301, ei=0.2973406910896301, em=0.19441942034698115, p=4.677831054358967e-13, t=0.3720860479701679, j=205\n",
      "i=850, x0=17.97863008869452, xi=17.97863008869452, e0=0.3378797173500061, ei=0.3378797173500061, em=0.19367242814267724, p=1.3126298179221581e-14, t=0.3252154116173245, j=206\n",
      "i=900, x0=17.80976013143745, xi=17.80976013143745, e0=0.300743043422699, ei=0.300743043422699, em=0.19112235878072859, p=2.930426940732935e-32, t=0.28424893792821154, j=209\n",
      "i=950, x0=17.836586223644737, xi=17.836586223644737, e0=0.29520756006240845, ei=0.29520756006240845, em=0.19023861175491696, p=2.6739368306942852e-14, t=0.2484428960838709, j=210\n",
      "i=1000, x0=17.836586223644737, xi=17.836586223644737, e0=0.29520756006240845, ei=0.29520756006240845, em=0.19023861175491696, p=4.177158576925578e-42, t=0.2171472409516258, j=210\n",
      "Before SGD: xi = 17.836585998535156, ei =0.29520756006240845\n",
      "SGD: xi=17.846586227416992, ei=0.2942578196525574\n",
      "SGD: xi=17.855958938598633, ei=0.29391223192214966\n",
      "SGD: xi=17.863569259643555, ei=0.2940237522125244\n",
      "SGD: xi=17.868101119995117, ei=0.29425638914108276\n",
      "SGD: xi=17.869388580322266, ei=0.2943447232246399\n",
      "Final state: xi=17.869388580322266, ei=0.2943447232246399\n"
     ]
    }
   ],
   "source": [
    "session = tf.Session()\n",
    "with session as s:\n",
    "    s.run(tf.global_variables_initializer())\n",
    "    xi[i] = x.eval()\n",
    "    s.run(x_assign,feed_dict={x_value:xi[0]}) # Random noise\n",
    "    ei[i] = s.run(e_x) # Initial energy\n",
    "    em[i] = ei[i] # Running energy average\n",
    "    em0 = em[i]\n",
    "    hm = np.empty((0))\n",
    "    h = 0\n",
    "    print('Initial state: x0={}, e0={}, t={}'.format(xi[i],ei[i],t))\n",
    "    while i < n:\n",
    "        i = i+1\n",
    "        xi[i] = max(min(xi[i-1]+xi[i],6*math.pi),2) # Random noise\n",
    "        s.run(x_assign,feed_dict={x_value:xi[i]})\n",
    "        ei[i] = s.run(e_x)\n",
    "        if ei[i] < ei[i-1]: # Better solution, automatic acceptance\n",
    "            accept = True\n",
    "        else: # Worse solution\n",
    "            p = np.exp(-abs(ei[i]-ei[i-1])/(em[i-1]*t))\n",
    "            if random.random() < p: # Can solution still be accepted?\n",
    "                accept = True\n",
    "            else:\n",
    "                accept = False\n",
    "        if accept:\n",
    "            j = j+1 # Number of accepted solutions\n",
    "            em[i] = (em[i-1]*(j-1.0)+abs(ei[i]-ei[i-1]))/j # Compute running energy average\n",
    "            h = h+ei[i]*np.exp(-ei[i]/(em[i]*t))/(em[i]*t) # Compute entropy\n",
    "        else:\n",
    "            xi[i] = xi[i-1]\n",
    "            s.run(x_assign,feed_dict={x_value:xi[i]})\n",
    "            ei[i] = ei[i-1]\n",
    "            em[i] = em[i-1]\n",
    "        if i % m == 0:\n",
    "            print('i={}, x0={}, xi={}, e0={}, ei={}, em={}, p={}, t={}, j={}'.format(i,xi[i-1],xi[i],ei[i-1],ei[i],em[i],p,t,j))\n",
    "            hm = np.append(hm,h)\n",
    "            h = 0\n",
    "            t = anneal*t # Reannealing, lower the temperature for next cycle\n",
    "            if abs(em[i]-em0) < e_tol:\n",
    "                break\n",
    "            em0 = em[i]\n",
    "    e0 = 0\n",
    "    print('Before SGD: xi = {}, ei ={}'.format(x.eval(),s.run(e_x)))\n",
    "    while abs(ei[i]-e0)>=e_tol:\n",
    "        s.run(train_op_x)\n",
    "        e0 = ei[i]\n",
    "        ei[i] = s.run(e_x)\n",
    "        print('SGD: xi={}, ei={}'.format(x.eval(),s.run(e_x)))\n",
    "    xi[i] = x.eval()\n",
    "    print('Final state: xi={}, ei={}'.format(x.eval(),s.run(e_x)))\n",
    "session.close()"
   ]
  },
  {
   "cell_type": "code",
   "execution_count": 12,
   "metadata": {},
   "outputs": [
    {
     "data": {
      "text/plain": [
       "[<matplotlib.lines.Line2D at 0x3effb004a0f0>]"
      ]
     },
     "execution_count": 12,
     "metadata": {},
     "output_type": "execute_result"
    },
    {
     "data": {
      "image/png": "[encoded data removed]",
      "text/plain": [
       "<matplotlib.figure.Figure at 0x3effb0089a90>"
      ]
     },
     "metadata": {},
     "output_type": "display_data"
    }
   ],
   "source": [
    "# Energy function and convergence\n",
    "plt.plot(x_,e_)\n",
    "j = i//m\n",
    "xx = np.empty((0))\n",
    "ee = np.empty((0))\n",
    "for k in range(i+1):\n",
    "    if k%m==0:\n",
    "        xx = np.append(xx,xi[k])\n",
    "        ee = np.append(ee,ei[k])\n",
    "plt.plot(xx,ee,'ko',ms=3)\n",
    "plt.plot(xx[0],ee[0],'ro',ms=7)\n",
    "plt.plot(xx[j],ee[j],'ro',ms=7)"
   ]
  },
  {
   "cell_type": "code",
   "execution_count": null,
   "metadata": {},
   "outputs": [],
   "source": []
  }
 ],
 "metadata": {
  "kernelspec": {
   "display_name": "Python 3",
   "language": "python",
   "name": "python3"
  },
  "language_info": {
   "codemirror_mode": {
    "name": "ipython",
    "version": 3
   },
   "file_extension": ".py",
   "mimetype": "text/x-python",
   "name": "python",
   "nbconvert_exporter": "python",
   "pygments_lexer": "ipython3",
   "version": "3.6.5"
  }
 },
 "nbformat": 4,
 "nbformat_minor": 2
}
