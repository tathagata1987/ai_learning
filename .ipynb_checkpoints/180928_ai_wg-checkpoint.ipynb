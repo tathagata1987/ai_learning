{
 "cells": [
  {
   "cell_type": "markdown",
   "metadata": {},
   "source": [
    "# AI Working Group\n",
    "#### 9/28/18"
   ]
  },
  {
   "cell_type": "code",
   "execution_count": 1,
   "metadata": {},
   "outputs": [],
   "source": [
    "import sys, os\n",
    "import pandas as pd\n",
    "import numpy as np\n",
    "import matplotlib\n",
    "import matplotlib.pyplot as plt\n",
    "from IPython.display import display, Image\n",
    "from IPython.core.display import display, HTML"
   ]
  },
  {
   "cell_type": "markdown",
   "metadata": {},
   "source": [
    "### Information Value (IV) and Weights of Evidence (WoE)\n",
    "\n",
    "We'll look at techniques involving IV and WoE that can potentially assist the implementation of the MRM AI WG Idea \"Variable Selection for PPNR Models\" by Earvin.\n",
    "\n",
    "First, let's cover a few fundamental concepts. You can find fundamentals of IV/WoE here:\n",
    "\n",
    "https://www.listendata.com/2015/03/weight-of-evidence-woe-and-information.html\n",
    "\n",
    "#### _The Information Value of x for measuring y is a number that attempts to quantify the predictive power of x in capturing y._"
   ]
  },
  {
   "cell_type": "code",
   "execution_count": 2,
   "metadata": {},
   "outputs": [
    {
     "data": {
      "text/html": [
       "<img src=\"https://cdn-images-1.medium.com/max/800/1*6Aw782wiyiFtzvK7EOY8CA.png\" width=\"250\"/>"
      ],
      "text/plain": [
       "<IPython.core.display.Image object>"
      ]
     },
     "execution_count": 2,
     "metadata": {},
     "output_type": "execute_result"
    }
   ],
   "source": [
    "Image(url=\"https://cdn-images-1.medium.com/max/800/1*6Aw782wiyiFtzvK7EOY8CA.png\",width=250)"
   ]
  },
  {
   "cell_type": "code",
   "execution_count": 3,
   "metadata": {},
   "outputs": [
    {
     "data": {
      "text/html": [
       "<img src=\"https://cdn-images-1.medium.com/max/800/1*9Gi0fGyTpxfwM2TpV4GZQQ.png\" width=\"400\"/>"
      ],
      "text/plain": [
       "<IPython.core.display.Image object>"
      ]
     },
     "execution_count": 3,
     "metadata": {},
     "output_type": "execute_result"
    }
   ],
   "source": [
    "Image(url=\"https://cdn-images-1.medium.com/max/800/1*9Gi0fGyTpxfwM2TpV4GZQQ.png\",width=400)"
   ]
  },
  {
   "cell_type": "markdown",
   "metadata": {},
   "source": [
    "A good examples is are here:\n",
    "\n",
    "https://medium.com/@sundarstyles89/weight-of-evidence-and-information-value-using-python-6f05072e83eb\n",
    "\n",
    "http://www.angoss.com/information-value-a-numerical-example/"
   ]
  },
  {
   "cell_type": "code",
   "execution_count": 4,
   "metadata": {},
   "outputs": [
    {
     "data": {
      "text/html": [
       "<img src=\"https://cdn-images-1.medium.com/max/1000/1*kP86RE7G0_0pi7E6bnlUZA.png\" width=\"800\"/>"
      ],
      "text/plain": [
       "<IPython.core.display.Image object>"
      ]
     },
     "execution_count": 4,
     "metadata": {},
     "output_type": "execute_result"
    }
   ],
   "source": [
    "Image(url=\"https://cdn-images-1.medium.com/max/1000/1*kP86RE7G0_0pi7E6bnlUZA.png\",width=800)"
   ]
  },
  {
   "cell_type": "markdown",
   "metadata": {},
   "source": [
    "On assessing the results from IV, one rule of thumb introduced by Naeem Siddiqi in his book \"Credit Risk Scorecards: Developing and Implementing Intelligent Credit Scoring\" (link to PDF below) is as follows:\n",
    "\n",
    "https://pdfs.semanticscholar.org/dd5c/7f59d20d9a00d4c93e3d6a7e9973f3462e7e.pdf"
   ]
  },
  {
   "cell_type": "code",
   "execution_count": 5,
   "metadata": {},
   "outputs": [
    {
     "data": {
      "text/html": [
       "<img src=\"https://cdn-images-1.medium.com/max/800/1*5S_5aAHWe0_knDGZUK3W8w.png\" width=\"500\"/>"
      ],
      "text/plain": [
       "<IPython.core.display.Image object>"
      ]
     },
     "execution_count": 5,
     "metadata": {},
     "output_type": "execute_result"
    }
   ],
   "source": [
    "Image(url=\"https://cdn-images-1.medium.com/max/800/1*5S_5aAHWe0_knDGZUK3W8w.png\",width=500)"
   ]
  },
  {
   "cell_type": "markdown",
   "metadata": {},
   "source": [
    "One key aspect of WoE and IV is the choice of binning (buckets) for the independent variables (features). There are lots of techniques out there, including decision trees. R has lots of packages cattered to this, one example is this:\n",
    "\n",
    "https://cran.r-project.org/web/packages/woeBinning/woeBinning.pdf\n",
    "\n",
    "We will run the example below with arbritary binning for 'age'. The other features already have natural binning as they are categorical variables."
   ]
  },
  {
   "cell_type": "markdown",
   "metadata": {},
   "source": [
    "### Numerical Example\n",
    "\n",
    "The data for this numerical example was downloaded from here:\n",
    "\n",
    "https://www.kaggle.com/varungitboi/employee-salary-dataset/version/1\n",
    "\n",
    "We'll use Python's Pandas library in this example. For a review of Pandas, take a look here:\n",
    "\n",
    "https://pandas.pydata.org/pandas-docs/stable/indexing.html"
   ]
  },
  {
   "cell_type": "code",
   "execution_count": 6,
   "metadata": {},
   "outputs": [
    {
     "data": {
      "text/html": [
       "<div>\n",
       "<style>\n",
       "    .dataframe thead tr:only-child th {\n",
       "        text-align: right;\n",
       "    }\n",
       "\n",
       "    .dataframe thead th {\n",
       "        text-align: left;\n",
       "    }\n",
       "\n",
       "    .dataframe tbody tr th {\n",
       "        vertical-align: top;\n",
       "    }\n",
       "</style>\n",
       "<table border=\"1\" class=\"dataframe\">\n",
       "  <thead>\n",
       "    <tr style=\"text-align: right;\">\n",
       "      <th></th>\n",
       "      <th>Unnamed: 0</th>\n",
       "      <th>id</th>\n",
       "      <th>groups</th>\n",
       "      <th>age</th>\n",
       "      <th>healthy_eating</th>\n",
       "      <th>active_lifestyle</th>\n",
       "      <th>salary</th>\n",
       "    </tr>\n",
       "  </thead>\n",
       "  <tbody>\n",
       "    <tr>\n",
       "      <th>0</th>\n",
       "      <td>0</td>\n",
       "      <td>0</td>\n",
       "      <td>A</td>\n",
       "      <td>36</td>\n",
       "      <td>5</td>\n",
       "      <td>5</td>\n",
       "      <td>2297</td>\n",
       "    </tr>\n",
       "    <tr>\n",
       "      <th>1</th>\n",
       "      <td>1</td>\n",
       "      <td>1</td>\n",
       "      <td>A</td>\n",
       "      <td>55</td>\n",
       "      <td>3</td>\n",
       "      <td>5</td>\n",
       "      <td>1134</td>\n",
       "    </tr>\n",
       "    <tr>\n",
       "      <th>2</th>\n",
       "      <td>2</td>\n",
       "      <td>2</td>\n",
       "      <td>A</td>\n",
       "      <td>61</td>\n",
       "      <td>8</td>\n",
       "      <td>1</td>\n",
       "      <td>4969</td>\n",
       "    </tr>\n",
       "    <tr>\n",
       "      <th>3</th>\n",
       "      <td>3</td>\n",
       "      <td>3</td>\n",
       "      <td>O</td>\n",
       "      <td>29</td>\n",
       "      <td>3</td>\n",
       "      <td>6</td>\n",
       "      <td>902</td>\n",
       "    </tr>\n",
       "    <tr>\n",
       "      <th>4</th>\n",
       "      <td>4</td>\n",
       "      <td>4</td>\n",
       "      <td>O</td>\n",
       "      <td>34</td>\n",
       "      <td>6</td>\n",
       "      <td>2</td>\n",
       "      <td>3574</td>\n",
       "    </tr>\n",
       "  </tbody>\n",
       "</table>\n",
       "</div>"
      ],
      "text/plain": [
       "   Unnamed: 0  id groups  age  healthy_eating  active_lifestyle  salary\n",
       "0           0   0      A   36               5                 5    2297\n",
       "1           1   1      A   55               3                 5    1134\n",
       "2           2   2      A   61               8                 1    4969\n",
       "3           3   3      O   29               3                 6     902\n",
       "4           4   4      O   34               6                 2    3574"
      ]
     },
     "execution_count": 6,
     "metadata": {},
     "output_type": "execute_result"
    }
   ],
   "source": [
    "data = pd.read_csv('180928_employee_data.csv')\n",
    "data.head()"
   ]
  },
  {
   "cell_type": "code",
   "execution_count": 7,
   "metadata": {},
   "outputs": [
    {
     "name": "stdout",
     "output_type": "stream",
     "text": [
      "<class 'pandas.core.frame.DataFrame'>\n",
      "RangeIndex: 1000 entries, 0 to 999\n",
      "Data columns (total 7 columns):\n",
      "Unnamed: 0          1000 non-null int64\n",
      "id                  1000 non-null int64\n",
      "groups              1000 non-null object\n",
      "age                 1000 non-null int64\n",
      "healthy_eating      1000 non-null int64\n",
      "active_lifestyle    1000 non-null int64\n",
      "salary              1000 non-null int64\n",
      "dtypes: int64(6), object(1)\n",
      "memory usage: 54.8+ KB\n"
     ]
    }
   ],
   "source": [
    "data.info()"
   ]
  },
  {
   "cell_type": "code",
   "execution_count": 8,
   "metadata": {},
   "outputs": [
    {
     "data": {
      "text/html": [
       "<div>\n",
       "<style>\n",
       "    .dataframe thead tr:only-child th {\n",
       "        text-align: right;\n",
       "    }\n",
       "\n",
       "    .dataframe thead th {\n",
       "        text-align: left;\n",
       "    }\n",
       "\n",
       "    .dataframe tbody tr th {\n",
       "        vertical-align: top;\n",
       "    }\n",
       "</style>\n",
       "<table border=\"1\" class=\"dataframe\">\n",
       "  <thead>\n",
       "    <tr style=\"text-align: right;\">\n",
       "      <th></th>\n",
       "      <th>Unnamed: 0</th>\n",
       "      <th>id</th>\n",
       "      <th>age</th>\n",
       "      <th>healthy_eating</th>\n",
       "      <th>active_lifestyle</th>\n",
       "      <th>salary</th>\n",
       "    </tr>\n",
       "  </thead>\n",
       "  <tbody>\n",
       "    <tr>\n",
       "      <th>count</th>\n",
       "      <td>1000.000000</td>\n",
       "      <td>1000.000000</td>\n",
       "      <td>1000.000000</td>\n",
       "      <td>1000.000000</td>\n",
       "      <td>1000.000000</td>\n",
       "      <td>1000.00000</td>\n",
       "    </tr>\n",
       "    <tr>\n",
       "      <th>mean</th>\n",
       "      <td>499.500000</td>\n",
       "      <td>499.500000</td>\n",
       "      <td>41.155000</td>\n",
       "      <td>4.944000</td>\n",
       "      <td>5.683000</td>\n",
       "      <td>2227.46100</td>\n",
       "    </tr>\n",
       "    <tr>\n",
       "      <th>std</th>\n",
       "      <td>288.819436</td>\n",
       "      <td>288.819436</td>\n",
       "      <td>13.462995</td>\n",
       "      <td>2.013186</td>\n",
       "      <td>2.048587</td>\n",
       "      <td>1080.20976</td>\n",
       "    </tr>\n",
       "    <tr>\n",
       "      <th>min</th>\n",
       "      <td>0.000000</td>\n",
       "      <td>0.000000</td>\n",
       "      <td>18.000000</td>\n",
       "      <td>0.000000</td>\n",
       "      <td>0.000000</td>\n",
       "      <td>553.00000</td>\n",
       "    </tr>\n",
       "    <tr>\n",
       "      <th>25%</th>\n",
       "      <td>249.750000</td>\n",
       "      <td>249.750000</td>\n",
       "      <td>30.000000</td>\n",
       "      <td>4.000000</td>\n",
       "      <td>4.000000</td>\n",
       "      <td>1360.00000</td>\n",
       "    </tr>\n",
       "    <tr>\n",
       "      <th>50%</th>\n",
       "      <td>499.500000</td>\n",
       "      <td>499.500000</td>\n",
       "      <td>41.000000</td>\n",
       "      <td>5.000000</td>\n",
       "      <td>6.000000</td>\n",
       "      <td>2174.00000</td>\n",
       "    </tr>\n",
       "    <tr>\n",
       "      <th>75%</th>\n",
       "      <td>749.250000</td>\n",
       "      <td>749.250000</td>\n",
       "      <td>53.000000</td>\n",
       "      <td>6.000000</td>\n",
       "      <td>7.000000</td>\n",
       "      <td>2993.75000</td>\n",
       "    </tr>\n",
       "    <tr>\n",
       "      <th>max</th>\n",
       "      <td>999.000000</td>\n",
       "      <td>999.000000</td>\n",
       "      <td>64.000000</td>\n",
       "      <td>10.000000</td>\n",
       "      <td>10.000000</td>\n",
       "      <td>5550.00000</td>\n",
       "    </tr>\n",
       "  </tbody>\n",
       "</table>\n",
       "</div>"
      ],
      "text/plain": [
       "        Unnamed: 0           id          age  healthy_eating  \\\n",
       "count  1000.000000  1000.000000  1000.000000     1000.000000   \n",
       "mean    499.500000   499.500000    41.155000        4.944000   \n",
       "std     288.819436   288.819436    13.462995        2.013186   \n",
       "min       0.000000     0.000000    18.000000        0.000000   \n",
       "25%     249.750000   249.750000    30.000000        4.000000   \n",
       "50%     499.500000   499.500000    41.000000        5.000000   \n",
       "75%     749.250000   749.250000    53.000000        6.000000   \n",
       "max     999.000000   999.000000    64.000000       10.000000   \n",
       "\n",
       "       active_lifestyle      salary  \n",
       "count       1000.000000  1000.00000  \n",
       "mean           5.683000  2227.46100  \n",
       "std            2.048587  1080.20976  \n",
       "min            0.000000   553.00000  \n",
       "25%            4.000000  1360.00000  \n",
       "50%            6.000000  2174.00000  \n",
       "75%            7.000000  2993.75000  \n",
       "max           10.000000  5550.00000  "
      ]
     },
     "execution_count": 8,
     "metadata": {},
     "output_type": "execute_result"
    }
   ],
   "source": [
    "data.describe()"
   ]
  },
  {
   "cell_type": "code",
   "execution_count": 9,
   "metadata": {},
   "outputs": [
    {
     "data": {
      "text/html": [
       "<div>\n",
       "<style>\n",
       "    .dataframe thead tr:only-child th {\n",
       "        text-align: right;\n",
       "    }\n",
       "\n",
       "    .dataframe thead th {\n",
       "        text-align: left;\n",
       "    }\n",
       "\n",
       "    .dataframe tbody tr th {\n",
       "        vertical-align: top;\n",
       "    }\n",
       "</style>\n",
       "<table border=\"1\" class=\"dataframe\">\n",
       "  <thead>\n",
       "    <tr style=\"text-align: right;\">\n",
       "      <th></th>\n",
       "      <th>Unnamed: 0</th>\n",
       "      <th>id</th>\n",
       "      <th>age</th>\n",
       "      <th>healthy_eating</th>\n",
       "      <th>active_lifestyle</th>\n",
       "      <th>salary</th>\n",
       "      <th>bin_class</th>\n",
       "    </tr>\n",
       "  </thead>\n",
       "  <tbody>\n",
       "    <tr>\n",
       "      <th>count</th>\n",
       "      <td>1000.000000</td>\n",
       "      <td>1000.000000</td>\n",
       "      <td>1000.000000</td>\n",
       "      <td>1000.000000</td>\n",
       "      <td>1000.000000</td>\n",
       "      <td>1000.00000</td>\n",
       "      <td>1000.0</td>\n",
       "    </tr>\n",
       "    <tr>\n",
       "      <th>mean</th>\n",
       "      <td>499.500000</td>\n",
       "      <td>499.500000</td>\n",
       "      <td>41.155000</td>\n",
       "      <td>4.944000</td>\n",
       "      <td>5.683000</td>\n",
       "      <td>2227.46100</td>\n",
       "      <td>0.0</td>\n",
       "    </tr>\n",
       "    <tr>\n",
       "      <th>std</th>\n",
       "      <td>288.819436</td>\n",
       "      <td>288.819436</td>\n",
       "      <td>13.462995</td>\n",
       "      <td>2.013186</td>\n",
       "      <td>2.048587</td>\n",
       "      <td>1080.20976</td>\n",
       "      <td>0.0</td>\n",
       "    </tr>\n",
       "    <tr>\n",
       "      <th>min</th>\n",
       "      <td>0.000000</td>\n",
       "      <td>0.000000</td>\n",
       "      <td>18.000000</td>\n",
       "      <td>0.000000</td>\n",
       "      <td>0.000000</td>\n",
       "      <td>553.00000</td>\n",
       "      <td>0.0</td>\n",
       "    </tr>\n",
       "    <tr>\n",
       "      <th>25%</th>\n",
       "      <td>249.750000</td>\n",
       "      <td>249.750000</td>\n",
       "      <td>30.000000</td>\n",
       "      <td>4.000000</td>\n",
       "      <td>4.000000</td>\n",
       "      <td>1360.00000</td>\n",
       "      <td>0.0</td>\n",
       "    </tr>\n",
       "    <tr>\n",
       "      <th>50%</th>\n",
       "      <td>499.500000</td>\n",
       "      <td>499.500000</td>\n",
       "      <td>41.000000</td>\n",
       "      <td>5.000000</td>\n",
       "      <td>6.000000</td>\n",
       "      <td>2174.00000</td>\n",
       "      <td>0.0</td>\n",
       "    </tr>\n",
       "    <tr>\n",
       "      <th>75%</th>\n",
       "      <td>749.250000</td>\n",
       "      <td>749.250000</td>\n",
       "      <td>53.000000</td>\n",
       "      <td>6.000000</td>\n",
       "      <td>7.000000</td>\n",
       "      <td>2993.75000</td>\n",
       "      <td>0.0</td>\n",
       "    </tr>\n",
       "    <tr>\n",
       "      <th>max</th>\n",
       "      <td>999.000000</td>\n",
       "      <td>999.000000</td>\n",
       "      <td>64.000000</td>\n",
       "      <td>10.000000</td>\n",
       "      <td>10.000000</td>\n",
       "      <td>5550.00000</td>\n",
       "      <td>0.0</td>\n",
       "    </tr>\n",
       "  </tbody>\n",
       "</table>\n",
       "</div>"
      ],
      "text/plain": [
       "        Unnamed: 0           id          age  healthy_eating  \\\n",
       "count  1000.000000  1000.000000  1000.000000     1000.000000   \n",
       "mean    499.500000   499.500000    41.155000        4.944000   \n",
       "std     288.819436   288.819436    13.462995        2.013186   \n",
       "min       0.000000     0.000000    18.000000        0.000000   \n",
       "25%     249.750000   249.750000    30.000000        4.000000   \n",
       "50%     499.500000   499.500000    41.000000        5.000000   \n",
       "75%     749.250000   749.250000    53.000000        6.000000   \n",
       "max     999.000000   999.000000    64.000000       10.000000   \n",
       "\n",
       "       active_lifestyle      salary  bin_class  \n",
       "count       1000.000000  1000.00000     1000.0  \n",
       "mean           5.683000  2227.46100        0.0  \n",
       "std            2.048587  1080.20976        0.0  \n",
       "min            0.000000   553.00000        0.0  \n",
       "25%            4.000000  1360.00000        0.0  \n",
       "50%            6.000000  2174.00000        0.0  \n",
       "75%            7.000000  2993.75000        0.0  \n",
       "max           10.000000  5550.00000        0.0  "
      ]
     },
     "execution_count": 9,
     "metadata": {},
     "output_type": "execute_result"
    }
   ],
   "source": [
    "data['bin_class'] = 0\n",
    "data.describe()"
   ]
  },
  {
   "cell_type": "code",
   "execution_count": 10,
   "metadata": {},
   "outputs": [
    {
     "data": {
      "text/html": [
       "<div>\n",
       "<style>\n",
       "    .dataframe thead tr:only-child th {\n",
       "        text-align: right;\n",
       "    }\n",
       "\n",
       "    .dataframe thead th {\n",
       "        text-align: left;\n",
       "    }\n",
       "\n",
       "    .dataframe tbody tr th {\n",
       "        vertical-align: top;\n",
       "    }\n",
       "</style>\n",
       "<table border=\"1\" class=\"dataframe\">\n",
       "  <thead>\n",
       "    <tr style=\"text-align: right;\">\n",
       "      <th></th>\n",
       "      <th>Unnamed: 0</th>\n",
       "      <th>id</th>\n",
       "      <th>age</th>\n",
       "      <th>healthy_eating</th>\n",
       "      <th>active_lifestyle</th>\n",
       "      <th>salary</th>\n",
       "      <th>bin_class</th>\n",
       "    </tr>\n",
       "  </thead>\n",
       "  <tbody>\n",
       "    <tr>\n",
       "      <th>count</th>\n",
       "      <td>1000.000000</td>\n",
       "      <td>1000.000000</td>\n",
       "      <td>1000.000000</td>\n",
       "      <td>1000.000000</td>\n",
       "      <td>1000.000000</td>\n",
       "      <td>1000.00000</td>\n",
       "      <td>1000.000000</td>\n",
       "    </tr>\n",
       "    <tr>\n",
       "      <th>mean</th>\n",
       "      <td>499.500000</td>\n",
       "      <td>499.500000</td>\n",
       "      <td>41.155000</td>\n",
       "      <td>4.944000</td>\n",
       "      <td>5.683000</td>\n",
       "      <td>2227.46100</td>\n",
       "      <td>0.463000</td>\n",
       "    </tr>\n",
       "    <tr>\n",
       "      <th>std</th>\n",
       "      <td>288.819436</td>\n",
       "      <td>288.819436</td>\n",
       "      <td>13.462995</td>\n",
       "      <td>2.013186</td>\n",
       "      <td>2.048587</td>\n",
       "      <td>1080.20976</td>\n",
       "      <td>0.498879</td>\n",
       "    </tr>\n",
       "    <tr>\n",
       "      <th>min</th>\n",
       "      <td>0.000000</td>\n",
       "      <td>0.000000</td>\n",
       "      <td>18.000000</td>\n",
       "      <td>0.000000</td>\n",
       "      <td>0.000000</td>\n",
       "      <td>553.00000</td>\n",
       "      <td>0.000000</td>\n",
       "    </tr>\n",
       "    <tr>\n",
       "      <th>25%</th>\n",
       "      <td>249.750000</td>\n",
       "      <td>249.750000</td>\n",
       "      <td>30.000000</td>\n",
       "      <td>4.000000</td>\n",
       "      <td>4.000000</td>\n",
       "      <td>1360.00000</td>\n",
       "      <td>0.000000</td>\n",
       "    </tr>\n",
       "    <tr>\n",
       "      <th>50%</th>\n",
       "      <td>499.500000</td>\n",
       "      <td>499.500000</td>\n",
       "      <td>41.000000</td>\n",
       "      <td>5.000000</td>\n",
       "      <td>6.000000</td>\n",
       "      <td>2174.00000</td>\n",
       "      <td>0.000000</td>\n",
       "    </tr>\n",
       "    <tr>\n",
       "      <th>75%</th>\n",
       "      <td>749.250000</td>\n",
       "      <td>749.250000</td>\n",
       "      <td>53.000000</td>\n",
       "      <td>6.000000</td>\n",
       "      <td>7.000000</td>\n",
       "      <td>2993.75000</td>\n",
       "      <td>1.000000</td>\n",
       "    </tr>\n",
       "    <tr>\n",
       "      <th>max</th>\n",
       "      <td>999.000000</td>\n",
       "      <td>999.000000</td>\n",
       "      <td>64.000000</td>\n",
       "      <td>10.000000</td>\n",
       "      <td>10.000000</td>\n",
       "      <td>5550.00000</td>\n",
       "      <td>1.000000</td>\n",
       "    </tr>\n",
       "  </tbody>\n",
       "</table>\n",
       "</div>"
      ],
      "text/plain": [
       "        Unnamed: 0           id          age  healthy_eating  \\\n",
       "count  1000.000000  1000.000000  1000.000000     1000.000000   \n",
       "mean    499.500000   499.500000    41.155000        4.944000   \n",
       "std     288.819436   288.819436    13.462995        2.013186   \n",
       "min       0.000000     0.000000    18.000000        0.000000   \n",
       "25%     249.750000   249.750000    30.000000        4.000000   \n",
       "50%     499.500000   499.500000    41.000000        5.000000   \n",
       "75%     749.250000   749.250000    53.000000        6.000000   \n",
       "max     999.000000   999.000000    64.000000       10.000000   \n",
       "\n",
       "       active_lifestyle      salary    bin_class  \n",
       "count       1000.000000  1000.00000  1000.000000  \n",
       "mean           5.683000  2227.46100     0.463000  \n",
       "std            2.048587  1080.20976     0.498879  \n",
       "min            0.000000   553.00000     0.000000  \n",
       "25%            4.000000  1360.00000     0.000000  \n",
       "50%            6.000000  2174.00000     0.000000  \n",
       "75%            7.000000  2993.75000     1.000000  \n",
       "max           10.000000  5550.00000     1.000000  "
      ]
     },
     "execution_count": 10,
     "metadata": {},
     "output_type": "execute_result"
    }
   ],
   "source": [
    "data.loc[data['salary']>data['salary'].mean(),'bin_class'] = 1\n",
    "data.describe()"
   ]
  },
  {
   "cell_type": "code",
   "execution_count": 11,
   "metadata": {},
   "outputs": [
    {
     "name": "stdout",
     "output_type": "stream",
     "text": [
      "<class 'pandas.core.frame.DataFrame'>\n",
      "RangeIndex: 1000 entries, 0 to 999\n",
      "Data columns (total 10 columns):\n",
      "Unnamed: 0          1000 non-null int64\n",
      "id                  1000 non-null int64\n",
      "groups              1000 non-null object\n",
      "age                 1000 non-null int64\n",
      "healthy_eating      1000 non-null int64\n",
      "active_lifestyle    1000 non-null int64\n",
      "salary              1000 non-null int64\n",
      "bin_class           1000 non-null int64\n",
      "age_binned          1000 non-null category\n",
      "age_class           1000 non-null int64\n",
      "dtypes: category(1), int64(8), object(1)\n",
      "memory usage: 71.5+ KB\n"
     ]
    }
   ],
   "source": [
    "bins = [0, 20, 30, 40, 50, 60, 150]\n",
    "data['age_binned'] = pd.cut(data['age'],bins=bins)\n",
    "data['age_class'] = np.searchsorted(bins,data['age'].values)\n",
    "data.info()"
   ]
  },
  {
   "cell_type": "code",
   "execution_count": 12,
   "metadata": {},
   "outputs": [
    {
     "data": {
      "text/html": [
       "<div>\n",
       "<style>\n",
       "    .dataframe thead tr:only-child th {\n",
       "        text-align: right;\n",
       "    }\n",
       "\n",
       "    .dataframe thead th {\n",
       "        text-align: left;\n",
       "    }\n",
       "\n",
       "    .dataframe tbody tr th {\n",
       "        vertical-align: top;\n",
       "    }\n",
       "</style>\n",
       "<table border=\"1\" class=\"dataframe\">\n",
       "  <thead>\n",
       "    <tr style=\"text-align: right;\">\n",
       "      <th></th>\n",
       "      <th>Unnamed: 0</th>\n",
       "      <th>id</th>\n",
       "      <th>groups</th>\n",
       "      <th>age</th>\n",
       "      <th>healthy_eating</th>\n",
       "      <th>active_lifestyle</th>\n",
       "      <th>salary</th>\n",
       "      <th>bin_class</th>\n",
       "      <th>age_binned</th>\n",
       "      <th>age_class</th>\n",
       "    </tr>\n",
       "  </thead>\n",
       "  <tbody>\n",
       "    <tr>\n",
       "      <th>0</th>\n",
       "      <td>0</td>\n",
       "      <td>0</td>\n",
       "      <td>A</td>\n",
       "      <td>36</td>\n",
       "      <td>5</td>\n",
       "      <td>5</td>\n",
       "      <td>2297</td>\n",
       "      <td>1</td>\n",
       "      <td>(30, 40]</td>\n",
       "      <td>3</td>\n",
       "    </tr>\n",
       "    <tr>\n",
       "      <th>1</th>\n",
       "      <td>1</td>\n",
       "      <td>1</td>\n",
       "      <td>A</td>\n",
       "      <td>55</td>\n",
       "      <td>3</td>\n",
       "      <td>5</td>\n",
       "      <td>1134</td>\n",
       "      <td>0</td>\n",
       "      <td>(50, 60]</td>\n",
       "      <td>5</td>\n",
       "    </tr>\n",
       "    <tr>\n",
       "      <th>2</th>\n",
       "      <td>2</td>\n",
       "      <td>2</td>\n",
       "      <td>A</td>\n",
       "      <td>61</td>\n",
       "      <td>8</td>\n",
       "      <td>1</td>\n",
       "      <td>4969</td>\n",
       "      <td>1</td>\n",
       "      <td>(60, 150]</td>\n",
       "      <td>6</td>\n",
       "    </tr>\n",
       "    <tr>\n",
       "      <th>3</th>\n",
       "      <td>3</td>\n",
       "      <td>3</td>\n",
       "      <td>O</td>\n",
       "      <td>29</td>\n",
       "      <td>3</td>\n",
       "      <td>6</td>\n",
       "      <td>902</td>\n",
       "      <td>0</td>\n",
       "      <td>(20, 30]</td>\n",
       "      <td>2</td>\n",
       "    </tr>\n",
       "    <tr>\n",
       "      <th>4</th>\n",
       "      <td>4</td>\n",
       "      <td>4</td>\n",
       "      <td>O</td>\n",
       "      <td>34</td>\n",
       "      <td>6</td>\n",
       "      <td>2</td>\n",
       "      <td>3574</td>\n",
       "      <td>1</td>\n",
       "      <td>(30, 40]</td>\n",
       "      <td>3</td>\n",
       "    </tr>\n",
       "  </tbody>\n",
       "</table>\n",
       "</div>"
      ],
      "text/plain": [
       "   Unnamed: 0  id groups  age  healthy_eating  active_lifestyle  salary  \\\n",
       "0           0   0      A   36               5                 5    2297   \n",
       "1           1   1      A   55               3                 5    1134   \n",
       "2           2   2      A   61               8                 1    4969   \n",
       "3           3   3      O   29               3                 6     902   \n",
       "4           4   4      O   34               6                 2    3574   \n",
       "\n",
       "   bin_class age_binned  age_class  \n",
       "0          1   (30, 40]          3  \n",
       "1          0   (50, 60]          5  \n",
       "2          1  (60, 150]          6  \n",
       "3          0   (20, 30]          2  \n",
       "4          1   (30, 40]          3  "
      ]
     },
     "execution_count": 12,
     "metadata": {},
     "output_type": "execute_result"
    }
   ],
   "source": [
    "data.head()"
   ]
  },
  {
   "cell_type": "markdown",
   "metadata": {},
   "source": [
    "### IV Calculation: Categorical Target Variable\n",
    "\n",
    "The function below is taken from this link:\n",
    "\n",
    "https://www.kaggle.com/puremath86/iv-woe-starter-for-python"
   ]
  },
  {
   "cell_type": "code",
   "execution_count": 13,
   "metadata": {},
   "outputs": [],
   "source": [
    "# Calculate information value\n",
    "def calc_iv(df, feature, target, pr=False):\n",
    "    \"\"\"\n",
    "    Set pr=True to enable printing of output.\n",
    "    \n",
    "    Output: \n",
    "      * iv: float,\n",
    "      * data: pandas.DataFrame\n",
    "    \"\"\"\n",
    "\n",
    "    lst = []\n",
    "\n",
    "    df[feature] = df[feature].fillna(\"NULL\")\n",
    "\n",
    "    for i in range(df[feature].nunique()):\n",
    "        val = list(df[feature].unique())[i]\n",
    "        lst.append([feature,                                                        # Variable\n",
    "                    val,                                                            # Value\n",
    "                    df[df[feature] == val].count()[feature],                        # All\n",
    "                    df[(df[feature] == val) & (df[target] == 0)].count()[feature],  # Good (think: Fraud == 0)\n",
    "                    df[(df[feature] == val) & (df[target] == 1)].count()[feature]]) # Bad (think: Fraud == 1)\n",
    "\n",
    "    data = pd.DataFrame(lst, columns=['Variable', 'Value', 'All', 'Good', 'Bad'])\n",
    "\n",
    "    data['Share'] = data['All'] / data['All'].sum()\n",
    "    data['Bad Rate'] = data['Bad'] / data['All']\n",
    "    data['Distribution Good'] = (data['All'] - data['Bad']) / (data['All'].sum() - data['Bad'].sum())\n",
    "    data['Distribution Bad'] = data['Bad'] / data['Bad'].sum()\n",
    "    data['WoE'] = np.log(data['Distribution Good'] / data['Distribution Bad'])\n",
    "\n",
    "    data = data.replace({'WoE': {np.inf: 0, -np.inf: 0}})\n",
    "\n",
    "    data['IV'] = data['WoE'] * (data['Distribution Good'] - data['Distribution Bad'])\n",
    "\n",
    "    data = data.sort_values(by=['Variable', 'Value'], ascending=[True, True])\n",
    "    data.index = range(len(data.index))\n",
    "\n",
    "    if pr:\n",
    "        print(data)\n",
    "        print('IV = ', data['IV'].sum())\n",
    "\n",
    "\n",
    "    iv = data['IV'].sum()\n",
    "    # print(iv)\n",
    "\n",
    "    return iv, data"
   ]
  },
  {
   "cell_type": "markdown",
   "metadata": {},
   "source": [
    "Let's see how well each of the variables in the dataset explain whether one is in the higher or lower salary bracket."
   ]
  },
  {
   "cell_type": "code",
   "execution_count": 14,
   "metadata": {
    "scrolled": true
   },
   "outputs": [
    {
     "name": "stdout",
     "output_type": "stream",
     "text": [
      "  Variable Value  All  Good  Bad  Share  Bad Rate  Distribution Good  \\\n",
      "0   groups     A  375   206  169  0.375  0.450667           0.383613   \n",
      "1   groups    AB  125    73   52  0.125  0.416000           0.135940   \n",
      "2   groups     B  125    67   58  0.125  0.464000           0.124767   \n",
      "3   groups     O  375   191  184  0.375  0.490667           0.355680   \n",
      "\n",
      "   Distribution Bad       WoE        IV  \n",
      "0          0.365011  0.049706  0.000925  \n",
      "1          0.112311  0.190945  0.004512  \n",
      "2          0.125270 -0.004021  0.000002  \n",
      "3          0.397408 -0.110933  0.004629  \n",
      "IV =  0.0100676446715\n"
     ]
    }
   ],
   "source": [
    "iv, dt = calc_iv(data,'groups','bin_class',pr=True)"
   ]
  },
  {
   "cell_type": "code",
   "execution_count": 15,
   "metadata": {},
   "outputs": [
    {
     "name": "stdout",
     "output_type": "stream",
     "text": [
      "    Variable  Value  All  Good  Bad  Share  Bad Rate  Distribution Good  \\\n",
      "0  age_class      1   64    35   29  0.064  0.453125           0.065177   \n",
      "1  age_class      2  204    99  105  0.204  0.514706           0.184358   \n",
      "2  age_class      3  208   112   96  0.208  0.461538           0.208566   \n",
      "3  age_class      4  224   120  104  0.224  0.464286           0.223464   \n",
      "4  age_class      5  216   123   93  0.216  0.430556           0.229050   \n",
      "5  age_class      6   84    48   36  0.084  0.428571           0.089385   \n",
      "\n",
      "   Distribution Bad       WoE        IV  \n",
      "0          0.062635  0.039781  0.000101  \n",
      "1          0.226782 -0.207112  0.008787  \n",
      "2          0.207343  0.005880  0.000007  \n",
      "3          0.224622 -0.005170  0.000006  \n",
      "4          0.200864  0.131314  0.003701  \n",
      "5          0.077754  0.139411  0.001622  \n",
      "IV =  0.0142237075675\n"
     ]
    }
   ],
   "source": [
    "iv, dt = calc_iv(data,'age_class','bin_class',pr=True)"
   ]
  },
  {
   "cell_type": "code",
   "execution_count": 16,
   "metadata": {},
   "outputs": [
    {
     "name": "stdout",
     "output_type": "stream",
     "text": [
      "          Variable  Value  All  Good  Bad  Share  Bad Rate  Distribution Good  \\\n",
      "0   healthy_eating      0   14    12    2  0.014  0.142857           0.022346   \n",
      "1   healthy_eating      1   25    24    1  0.025  0.040000           0.044693   \n",
      "2   healthy_eating      2   71    71    0  0.071  0.000000           0.132216   \n",
      "3   healthy_eating      3  138   137    1  0.138  0.007246           0.255121   \n",
      "4   healthy_eating      4  173   157   16  0.173  0.092486           0.292365   \n",
      "5   healthy_eating      5  179   102   77  0.179  0.430168           0.189944   \n",
      "6   healthy_eating      6  176    34  142  0.176  0.806818           0.063315   \n",
      "7   healthy_eating      7  116     0  116  0.116  1.000000           0.000000   \n",
      "8   healthy_eating      8   73     0   73  0.073  1.000000           0.000000   \n",
      "9   healthy_eating      9   26     0   26  0.026  1.000000           0.000000   \n",
      "10  healthy_eating     10    9     0    9  0.009  1.000000           0.000000   \n",
      "\n",
      "    Distribution Bad       WoE        IV  \n",
      "0           0.004320  1.643488  0.029627  \n",
      "1           0.002160  3.029783  0.128865  \n",
      "2           0.000000  0.000000  0.000000  \n",
      "3           0.002160  4.771710  1.207058  \n",
      "4           0.034557  2.135386  0.550519  \n",
      "5           0.166307  0.132896  0.003141  \n",
      "6           0.306695 -1.577738  0.383991  \n",
      "7           0.250540  0.000000 -0.000000  \n",
      "8           0.157667  0.000000 -0.000000  \n",
      "9           0.056156  0.000000 -0.000000  \n",
      "10          0.019438  0.000000 -0.000000  \n",
      "IV =  2.30320107919\n"
     ]
    },
    {
     "name": "stderr",
     "output_type": "stream",
     "text": [
      "/opt/conda/envs/py3.6/lib/python3.6/site-packages/ipykernel_launcher.py:29: RuntimeWarning: divide by zero encountered in log\n"
     ]
    }
   ],
   "source": [
    "iv, dt = calc_iv(data,'healthy_eating','bin_class',pr=True)"
   ]
  },
  {
   "cell_type": "code",
   "execution_count": 17,
   "metadata": {},
   "outputs": [
    {
     "name": "stdout",
     "output_type": "stream",
     "text": [
      "            Variable  Value  All  Good  Bad  Share  Bad Rate  \\\n",
      "0   active_lifestyle      0    7     0    7  0.007  1.000000   \n",
      "1   active_lifestyle      1   26     4   22  0.026  0.846154   \n",
      "2   active_lifestyle      2   34     8   26  0.034  0.764706   \n",
      "3   active_lifestyle      3   92    39   53  0.092  0.576087   \n",
      "4   active_lifestyle      4  104    51   53  0.104  0.509615   \n",
      "5   active_lifestyle      5  168    75   93  0.168  0.553571   \n",
      "6   active_lifestyle      6  213   116   97  0.213  0.455399   \n",
      "7   active_lifestyle      7  163    99   64  0.163  0.392638   \n",
      "8   active_lifestyle      8  114    82   32  0.114  0.280702   \n",
      "9   active_lifestyle      9   64    53   11  0.064  0.171875   \n",
      "10  active_lifestyle     10   15    10    5  0.015  0.333333   \n",
      "\n",
      "    Distribution Good  Distribution Bad       WoE        IV  \n",
      "0            0.000000          0.015119  0.000000 -0.000000  \n",
      "1            0.007449          0.047516 -1.853019  0.074246  \n",
      "2            0.014898          0.056156 -1.326926  0.054746  \n",
      "3            0.072626          0.114471 -0.455001  0.019040  \n",
      "4            0.094972          0.114471 -0.186737  0.003641  \n",
      "5            0.139665          0.200864 -0.363382  0.022239  \n",
      "6            0.216015          0.209503  0.030608  0.000199  \n",
      "7            0.184358          0.138229  0.287966  0.013283  \n",
      "8            0.152700          0.069114  0.792712  0.066259  \n",
      "9            0.098696          0.023758  1.424126  0.106722  \n",
      "10           0.018622          0.010799  0.544876  0.004262  \n",
      "IV =  0.36463763511\n"
     ]
    },
    {
     "name": "stderr",
     "output_type": "stream",
     "text": [
      "/opt/conda/envs/py3.6/lib/python3.6/site-packages/ipykernel_launcher.py:29: RuntimeWarning: divide by zero encountered in log\n"
     ]
    }
   ],
   "source": [
    "iv, dt = calc_iv(data,'active_lifestyle','bin_class',pr=True)"
   ]
  },
  {
   "cell_type": "markdown",
   "metadata": {},
   "source": [
    "There are many ways in which one may implement it, in the end it's trivia maths. But very useful indeed in feature selection, especially in the old days when the machines were not powerful enough to run advanced ML."
   ]
  },
  {
   "cell_type": "markdown",
   "metadata": {},
   "source": [
    "### IV Calculation: Continuous Target Variable\n",
    "\n",
    "What follows is extending the previous technique to continuous target variables. This link provides a good overview of how to do this:\n",
    "\n",
    "https://support.sas.com/resources/papers/proceedings15/3242-2015.pdf\n",
    "\n",
    "https://www.lexjansen.com/sesug/2014/SD-20.pdf"
   ]
  },
  {
   "cell_type": "code",
   "execution_count": null,
   "metadata": {},
   "outputs": [],
   "source": []
  }
 ],
 "metadata": {
  "kernelspec": {
   "display_name": "Python 3",
   "language": "python",
   "name": "python3"
  },
  "language_info": {
   "codemirror_mode": {
    "name": "ipython",
    "version": 3
   },
   "file_extension": ".py",
   "mimetype": "text/x-python",
   "name": "python",
   "nbconvert_exporter": "python",
   "pygments_lexer": "ipython3",
   "version": "3.6.5"
  }
 },
 "nbformat": 4,
 "nbformat_minor": 2
}
